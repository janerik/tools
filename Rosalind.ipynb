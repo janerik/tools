{
  "nbformat": 4,
  "nbformat_minor": 0,
  "metadata": {
    "colab": {
      "name": "Rosalind.ipynb",
      "provenance": [],
      "authorship_tag": "ABX9TyNp6ERMirnpJ/kx95bddC3m",
      "include_colab_link": true
    },
    "kernelspec": {
      "name": "python3",
      "display_name": "Python 3"
    },
    "language_info": {
      "name": "python"
    }
  },
  "cells": [
    {
      "cell_type": "markdown",
      "metadata": {
        "id": "view-in-github",
        "colab_type": "text"
      },
      "source": [
        "<a href=\"https://colab.research.google.com/github/janerik/tools/blob/main/Rosalind.ipynb\" target=\"_parent\"><img src=\"https://colab.research.google.com/assets/colab-badge.svg\" alt=\"Open In Colab\"/></a>"
      ]
    },
    {
      "cell_type": "code",
      "execution_count": null,
      "metadata": {
        "colab": {
          "base_uri": "https://localhost:8080/"
        },
        "id": "q3yUk4oRWULn",
        "outputId": "763b2171-183c-44f4-dfc3-95ad7bf254ad"
      },
      "outputs": [
        {
          "output_type": "stream",
          "name": "stdout",
          "text": [
            "947072\n"
          ]
        }
      ],
      "source": [
        "## Inferring mRNA from Protein\n",
        "\n",
        "translation = \"\"\"UUU F      CUU L      AUU I      GUU V\n",
        "UUC F      CUC L      AUC I      GUC V\n",
        "UUA L      CUA L      AUA I      GUA V\n",
        "UUG L      CUG L      AUG M      GUG V\n",
        "UCU S      CCU P      ACU T      GCU A\n",
        "UCC S      CCC P      ACC T      GCC A\n",
        "UCA S      CCA P      ACA T      GCA A\n",
        "UCG S      CCG P      ACG T      GCG A\n",
        "UAU Y      CAU H      AAU N      GAU D\n",
        "UAC Y      CAC H      AAC N      GAC D\n",
        "UAA Stop   CAA Q      AAA K      GAA E\n",
        "UAG Stop   CAG Q      AAG K      GAG E\n",
        "UGU C      CGU R      AGU S      GGU G\n",
        "UGC C      CGC R      AGC S      GGC G\n",
        "UGA Stop   CGA R      AGA R      GGA G\n",
        "UGG W      CGG R      AGG R      GGG G\"\"\"\n",
        "\n",
        "coded = \"MSNEIWTTNIESEVPWAMSYAKKMVKQFHSCWGWGASVGQCKLRIWPQIPIRDFKLKVYHYIQQTYNVPIDWHMYQGPDWEWLKDDHAQHLNDPSLMKWAPDVMHCIYIQLIKTDNVYKCCWNFPDNCMPWYAELQCIHTRCYSRLMFRETETYHWCQCMQKTAVARQYSFIKQAGRKGRPPMLQGLCSRNGRERCMSGQLGRGHYFVTNVYYQRQFMHLQSIMHEPECPKWLLVTYVMDLVNCHKWMGMGWKHFWIHVHRYMHGSQWLPWRRTDYAGGAQQTLNAGVTRCHHRGFWCLGTVCVLDINFREWMLGNCFDAQSNHHQETYRRVKWHYCSLEGMDQDPFQEISHRPWTPSRVFPHMDSGWLYWFYGHEDYVTARRWKQLHYWESQTHKYEIECMQILLQNYGKHRSQSFMRILTWHKIDQQCYHVKQRCCNGCTHERICQQVHCPWVTVHYPTRWKNCTNSHVTSDNLNLMMACSFVPYSQKVINPIMELFDAMWIGTFRDCQCAGCGGMVLRGQPNKKLANARHKVGPNNNTFFTHMGVWRGNTKRHWLMGMQKCVFKQVSHNGYYQNFVHNWGPLTQKWARLTADHTSAAIMNYVVGKMALVRFWNWGEPVDPRAIQFDCPMAHYQFFWAVYTRISHRDNVGYTPKLFGQQINHNSSQCVCEEWVWYTNFEPTSQIKVFQHDLDLQYQLFNSNKYPPSEKCSDHYFLSRMNQCPVWSIGFGMEKIPINRCDRRMWFWWCFRGGHYINMELCIRGFCPPRSDCRFVDFHLLTAEWTWKIGSLYQGNAGTHHDGPYLLTKDWWFMVRLMEWMTDSFCMSPRCKANPSTNTGLGGQNEVTMSLVIMFLKYLKAPAPYSPEVQNMSKWWDANDHFINANSIWYRKGPMVQTERRVMNHEIAQFENIFKEDSAHEDGHTCIDVCSGPSNLNTHVVWDAEMNCAFCKCCGEDKWLIYIKLPCAYHGICDCICREWQSCFQVCSDTTWWTCWMVVKF\"\n",
        "number = translation.count(\"Stop\")\n",
        "\n",
        "traL =  translation.split()\n",
        "list_aac = traL[1::2]\n",
        "list_aac = list(filter((\"Stop\").__ne__, list_aac))\n",
        "\n",
        "for aacid in coded:\n",
        "  number *= list_aac.count(aacid)\n",
        "\n",
        "print(number % 1000000)"
      ]
    },
    {
      "cell_type": "code",
      "source": [
        "## Finding a Protein Motif\n",
        "\n",
        "import urllib.request\n",
        "\n",
        "base_url = \"http://www.uniprot.org/uniprot/\"\n",
        "\n",
        "ids=[\"A9QYR8\",\n",
        "\"P10761_ZP3_MOUSE\",\n",
        "\"O08537_ESR2_MOUSE\",\n",
        "\"P22891_PRTZ_HUMAN\",\n",
        "\"P00304_ARA3_AMBEL\",\n",
        "\"A1UR66\",\n",
        "\"P31096_OSTP_BOVIN\",\n",
        "\"P37803\",\n",
        "\"Q4JAS3\",\n",
        "\"P01046_KNL1_BOVIN\",\n",
        "\"P27918_PROP_HUMAN\",\n",
        "\"P23185\",\n",
        "\"P07306_LECH_HUMAN\"\n",
        "]\n",
        "\n",
        "for id in ids:\n",
        "  locations = \"\"\n",
        "  target_url = base_url + id + \".fasta\"\n",
        "  seq = \"\"\n",
        "  for i, line in enumerate(urllib.request.urlopen(target_url)):\n",
        "    if i > 0:\n",
        "      seq += line[0:-1].decode(\"utf-8\")\n",
        "      \n",
        "  for i in range(len(seq)-4):\n",
        "    if seq[i] == \"N\" and seq[i+1]!=\"P\" and (seq[i+2]==\"S\" or seq[i+2]==\"T\") and seq[i+3]!=\"P\":\n",
        "      locations += str(i+1) + \" \"\n",
        "  if locations!=\"\":\n",
        "    print(id)\n",
        "    print(locations.strip())"
      ],
      "metadata": {
        "colab": {
          "base_uri": "https://localhost:8080/"
        },
        "id": "cTVJX7yFdKPO",
        "outputId": "dbc3cb7c-ea32-4f73-b3df-97570ec89af6"
      },
      "execution_count": null,
      "outputs": [
        {
          "output_type": "stream",
          "name": "stdout",
          "text": [
            "A9QYR8\n",
            "183 210\n",
            "P10761_ZP3_MOUSE\n",
            "146 273 304 327 330\n",
            "O08537_ESR2_MOUSE\n",
            "17 55 407\n",
            "P22891_PRTZ_HUMAN\n",
            "99 225 233 306 332\n",
            "P00304_ARA3_AMBEL\n",
            "41\n",
            "P31096_OSTP_BOVIN\n",
            "101 209\n",
            "P37803\n",
            "110\n",
            "P01046_KNL1_BOVIN\n",
            "47 87 168 169 197 204\n",
            "P27918_PROP_HUMAN\n",
            "428\n",
            "P23185\n",
            "71 77\n",
            "P07306_LECH_HUMAN\n",
            "79 147\n"
          ]
        }
      ]
    },
    {
      "cell_type": "code",
      "source": [
        "s = input()\n",
        "coded = s.replace(\"T\", \"U\")\n",
        "\n",
        "translation = \"\"\"UUU F      CUU L      AUU I      GUU V\n",
        "UUC F      CUC L      AUC I      GUC V\n",
        "UUA L      CUA L      AUA I      GUA V\n",
        "UUG L      CUG L      AUG M      GUG V\n",
        "UCU S      CCU P      ACU T      GCU A\n",
        "UCC S      CCC P      ACC T      GCC A\n",
        "UCA S      CCA P      ACA T      GCA A\n",
        "UCG S      CCG P      ACG T      GCG A\n",
        "UAU Y      CAU H      AAU N      GAU D\n",
        "UAC Y      CAC H      AAC N      GAC D\n",
        "UAA Stop   CAA Q      AAA K      GAA E\n",
        "UAG Stop   CAG Q      AAG K      GAG E\n",
        "UGU C      CGU R      AGU S      GGU G\n",
        "UGC C      CGC R      AGC S      GGC G\n",
        "UGA Stop   CGA R      AGA R      GGA G\n",
        "UGG W      CGG R      AGG R      GGG G      AUG Start\"\"\"\n",
        "\n",
        "traL =  translation.split()\n",
        "list_aac = traL[1::2]\n",
        "list_aac = list(filter((\"Stop\").__ne__, list_aac))\n",
        "\n",
        "decoded = \"\"\n",
        "for i in range(0, len(coded)-3, 3):\n",
        "  decoded += traDict[coded[i:i+3]]\n",
        "\n",
        "print(number % 1000000)"
      ],
      "metadata": {
        "id": "aj2MOX7ecUn4"
      },
      "execution_count": null,
      "outputs": []
    }
  ]
}